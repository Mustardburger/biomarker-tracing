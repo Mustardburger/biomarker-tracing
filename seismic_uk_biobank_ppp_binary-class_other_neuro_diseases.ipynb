{
 "cells": [
  {
   "cell_type": "code",
   "execution_count": 43,
   "id": "abca5f36-3624-46c6-9172-a5515fd5cbbe",
   "metadata": {},
   "outputs": [],
   "source": [
    "import numpy as np\n",
    "import pandas as pd\n",
    "import matplotlib.pyplot as plt\n",
    "import seaborn as sns\n",
    "import os\n",
    "\n",
    "sns.set_theme()"
   ]
  },
  {
   "cell_type": "markdown",
   "id": "9fb2b89f-b7aa-47a3-b6e7-7bdb00d669e7",
   "metadata": {},
   "source": [
    "# Redefining the negative-positive class"
   ]
  },
  {
   "cell_type": "markdown",
   "id": "8e32a809-da6e-40b7-a15c-d0b737f11502",
   "metadata": {
    "jp-MarkdownHeadingCollapsed": true
   },
   "source": [
    "## Some data viz and stats"
   ]
  },
  {
   "cell_type": "code",
   "execution_count": 21,
   "id": "9b6b40f0-8a6a-4403-98c4-293b7c5a1817",
   "metadata": {},
   "outputs": [
    {
     "data": {
      "text/plain": [
       "array(['COPD', 'Type 2 diabetes', 'Death', 'Liver disease',\n",
       "       'Ischaemic heart disease', 'Lung cancer', \"Alzheimer's dementia\",\n",
       "       'Ischaemic stroke', 'Systemic lupus erythematosus',\n",
       "       'Amyotrophic lateral sclerosis', \"Parkinson's disease\",\n",
       "       'Rheumatoid arthritis', 'Vascular dementia', 'Prostate cancer',\n",
       "       'Inflammatory bowel disease', 'Colorectal cancer', 'Endometriosis',\n",
       "       'Breast cancer', 'Cystitis', 'Multiple sclerosis',\n",
       "       'Gynaecological cancer', 'Schizophrenia', 'Major depression',\n",
       "       'Brain/CNS cancer'], dtype=object)"
      ]
     },
     "execution_count": 21,
     "metadata": {},
     "output_type": "execute_result"
    }
   ],
   "source": [
    "supp_cox_hr = pd.read_csv(\"/sc/arion/projects/DiseaseGeneCell/Huang_lab_project/BioResNetwork/Phuc/projects/Alzheimer/nature_proteomics_papers/blood_protein_assessment_of_leading_incident_diseases_and_mortality_in_the_UK_Biobank/supp_table_4.tsv\", sep=\"\\t\")\n",
    "supp_cox_hr[\"Outcome\"].unique()"
   ]
  },
  {
   "cell_type": "code",
   "execution_count": 9,
   "id": "61590414-5c4a-49a3-b0d5-f68dd2a2e2f8",
   "metadata": {},
   "outputs": [
    {
     "data": {
      "text/html": [
       "<div>\n",
       "<style scoped>\n",
       "    .dataframe tbody tr th:only-of-type {\n",
       "        vertical-align: middle;\n",
       "    }\n",
       "\n",
       "    .dataframe tbody tr th {\n",
       "        vertical-align: top;\n",
       "    }\n",
       "\n",
       "    .dataframe thead th {\n",
       "        text-align: right;\n",
       "    }\n",
       "</style>\n",
       "<table border=\"1\" class=\"dataframe\">\n",
       "  <thead>\n",
       "    <tr style=\"text-align: right;\">\n",
       "      <th></th>\n",
       "      <th>Predictor</th>\n",
       "      <th>Outcome</th>\n",
       "      <th>HR</th>\n",
       "      <th>LCI</th>\n",
       "      <th>UCI</th>\n",
       "      <th>P.Value</th>\n",
       "      <th>N Cases</th>\n",
       "      <th>N Controls</th>\n",
       "      <th>gene</th>\n",
       "      <th>-logp</th>\n",
       "    </tr>\n",
       "  </thead>\n",
       "  <tbody>\n",
       "    <tr>\n",
       "      <th>0</th>\n",
       "      <td>CXCL17.Q6UXB2.OID20622.v1</td>\n",
       "      <td>COPD</td>\n",
       "      <td>2.61</td>\n",
       "      <td>2.49</td>\n",
       "      <td>2.74</td>\n",
       "      <td>0.0</td>\n",
       "      <td>1998</td>\n",
       "      <td>44948</td>\n",
       "      <td>CXCL17.OID20622</td>\n",
       "      <td>138.155106</td>\n",
       "    </tr>\n",
       "    <tr>\n",
       "      <th>1</th>\n",
       "      <td>ACY1.Q03154.OID20137.v1</td>\n",
       "      <td>Type 2 diabetes</td>\n",
       "      <td>2.22</td>\n",
       "      <td>2.13</td>\n",
       "      <td>2.31</td>\n",
       "      <td>0.0</td>\n",
       "      <td>2822</td>\n",
       "      <td>43370</td>\n",
       "      <td>ACY1.OID20137</td>\n",
       "      <td>138.155106</td>\n",
       "    </tr>\n",
       "    <tr>\n",
       "      <th>2</th>\n",
       "      <td>GDF15.Q99988.OID20251.v1</td>\n",
       "      <td>Type 2 diabetes</td>\n",
       "      <td>2.56</td>\n",
       "      <td>2.46</td>\n",
       "      <td>2.67</td>\n",
       "      <td>0.0</td>\n",
       "      <td>2822</td>\n",
       "      <td>43370</td>\n",
       "      <td>GDF15.OID20251</td>\n",
       "      <td>138.155106</td>\n",
       "    </tr>\n",
       "    <tr>\n",
       "      <th>3</th>\n",
       "      <td>PRCP.P42785.OID20337.v1</td>\n",
       "      <td>Type 2 diabetes</td>\n",
       "      <td>2.25</td>\n",
       "      <td>2.16</td>\n",
       "      <td>2.34</td>\n",
       "      <td>0.0</td>\n",
       "      <td>2822</td>\n",
       "      <td>43370</td>\n",
       "      <td>PRCP.OID20337</td>\n",
       "      <td>138.155106</td>\n",
       "    </tr>\n",
       "    <tr>\n",
       "      <th>4</th>\n",
       "      <td>NFASC.O94856.OID20634.v1</td>\n",
       "      <td>Type 2 diabetes</td>\n",
       "      <td>2.39</td>\n",
       "      <td>2.29</td>\n",
       "      <td>2.49</td>\n",
       "      <td>0.0</td>\n",
       "      <td>2822</td>\n",
       "      <td>43370</td>\n",
       "      <td>NFASC.OID20634</td>\n",
       "      <td>138.155106</td>\n",
       "    </tr>\n",
       "  </tbody>\n",
       "</table>\n",
       "</div>"
      ],
      "text/plain": [
       "                   Predictor          Outcome    HR   LCI   UCI  P.Value  \\\n",
       "0  CXCL17.Q6UXB2.OID20622.v1             COPD  2.61  2.49  2.74      0.0   \n",
       "1    ACY1.Q03154.OID20137.v1  Type 2 diabetes  2.22  2.13  2.31      0.0   \n",
       "2   GDF15.Q99988.OID20251.v1  Type 2 diabetes  2.56  2.46  2.67      0.0   \n",
       "3    PRCP.P42785.OID20337.v1  Type 2 diabetes  2.25  2.16  2.34      0.0   \n",
       "4   NFASC.O94856.OID20634.v1  Type 2 diabetes  2.39  2.29  2.49      0.0   \n",
       "\n",
       "   N Cases  N Controls             gene       -logp  \n",
       "0     1998       44948  CXCL17.OID20622  138.155106  \n",
       "1     2822       43370    ACY1.OID20137  138.155106  \n",
       "2     2822       43370   GDF15.OID20251  138.155106  \n",
       "3     2822       43370    PRCP.OID20337  138.155106  \n",
       "4     2822       43370   NFASC.OID20634  138.155106  "
      ]
     },
     "execution_count": 9,
     "metadata": {},
     "output_type": "execute_result"
    }
   ],
   "source": [
    "# Read in supp table 4 (or 3, the cox_hr table)\n",
    "# neuro diseases\n",
    "neuro_diseases = [\"Alzheimer's dementia\", \"Amyotrophic lateral sclerosis\", \"Parkinson's disease\", \"Vascular dementia\", \"Multiple sclerosis\", 'Schizophrenia', 'Major depression', 'Brain/CNS cancer']\n",
    "disease = \"Amyotrophic lateral sclerosis\"\n",
    "\n",
    "supp_cox_hr = pd.read_csv(\"/sc/arion/projects/DiseaseGeneCell/Huang_lab_project/BioResNetwork/Phuc/projects/Alzheimer/nature_proteomics_papers/blood_protein_assessment_of_leading_incident_diseases_and_mortality_in_the_UK_Biobank/supp_table_4.tsv\", sep=\"\\t\")\n",
    "supp_cox_hr['P.Value'] = supp_cox_hr['P.Value'].str.replace(',', '.').astype(float)\n",
    "supp_cox_hr['HR'] = supp_cox_hr['HR'].str.replace(',', '.').astype(float)\n",
    "supp_cox_hr['UCI'] = supp_cox_hr['UCI'].str.replace(',', '.').astype(float)\n",
    "supp_cox_hr['LCI'] = supp_cox_hr['LCI'].str.replace(',', '.').astype(float)\n",
    "\n",
    "# Extract all AD genes in table 4\n",
    "supp_cox_hr[\"gene\"] = supp_cox_hr[\"Predictor\"].apply(lambda x: x.split(\".\")[0] + \".\" + x.split(\".\")[-2])\n",
    "supp_cox_hr[\"-logp\"] = -np.log(supp_cox_hr[\"P.Value\"] + 1e-60)\n",
    "supp_cox_hr.head()"
   ]
  },
  {
   "cell_type": "markdown",
   "id": "d32e7e0a-c597-42dc-b624-27da36bc2a5f",
   "metadata": {
    "jp-MarkdownHeadingCollapsed": true
   },
   "source": [
    "## Count significant genes"
   ]
  },
  {
   "cell_type": "code",
   "execution_count": 11,
   "id": "da82e16d-3391-4eaa-98dd-698cc5c3ff3b",
   "metadata": {},
   "outputs": [
    {
     "name": "stdout",
     "output_type": "stream",
     "text": [
      "Under pval < 3.1e-06, number of positive genes for Alzheimer's dementia = 7\n",
      "Under pval < 3.1e-06, number of positive genes for Amyotrophic lateral sclerosis = 1\n",
      "Under pval < 3.1e-06, number of positive genes for Parkinson's disease = 26\n",
      "Under pval < 3.1e-06, number of positive genes for Vascular dementia = 14\n",
      "Under pval < 3.1e-06, number of positive genes for Multiple sclerosis = 1\n",
      "Under pval < 3.1e-06, number of positive genes for Schizophrenia = 2\n",
      "Under pval < 3.1e-06, number of positive genes for Major depression = 1\n",
      "Under pval < 3.1e-06, number of positive genes for Brain/CNS cancer = 0\n"
     ]
    }
   ],
   "source": [
    "# Calculate the number of significant genes for each neurological disease (Bonferroni-corrected)\n",
    "pval_thres = 3.1e-6\n",
    "\n",
    "for disease in neuro_diseases:\n",
    "    supp_cox_hr_sup = supp_cox_hr[supp_cox_hr[\"Outcome\"] == disease]\n",
    "    num_pos = supp_cox_hr_sup[supp_cox_hr_sup[\"P.Value\"] < pval_thres].shape[0]\n",
    "    print(f\"Under pval < {pval_thres}, number of positive genes for {disease} = {num_pos}\")"
   ]
  },
  {
   "cell_type": "code",
   "execution_count": 12,
   "id": "52d7e411-daea-4fd4-8c35-4aa7632238d9",
   "metadata": {},
   "outputs": [
    {
     "name": "stdout",
     "output_type": "stream",
     "text": [
      "Under pval < 0.05, number of positive genes for Alzheimer's dementia = 217\n",
      "Under pval < 0.05, number of positive genes for Amyotrophic lateral sclerosis = 59\n",
      "Under pval < 0.05, number of positive genes for Parkinson's disease = 313\n",
      "Under pval < 0.05, number of positive genes for Vascular dementia = 541\n",
      "Under pval < 0.05, number of positive genes for Multiple sclerosis = 184\n",
      "Under pval < 0.05, number of positive genes for Schizophrenia = 531\n",
      "Under pval < 0.05, number of positive genes for Major depression = 180\n",
      "Under pval < 0.05, number of positive genes for Brain/CNS cancer = 34\n"
     ]
    }
   ],
   "source": [
    "# Calculate the number of significant genes for each neurological disease (no Bonferroni-corrected)\n",
    "pval_thres = 0.05\n",
    "\n",
    "for disease in neuro_diseases:\n",
    "    supp_cox_hr_sup = supp_cox_hr[supp_cox_hr[\"Outcome\"] == disease]\n",
    "    num_pos = supp_cox_hr_sup[supp_cox_hr_sup[\"P.Value\"] < pval_thres].shape[0]\n",
    "    print(f\"Under pval < {pval_thres}, number of positive genes for {disease} = {num_pos}\")"
   ]
  },
  {
   "cell_type": "code",
   "execution_count": 17,
   "id": "051bf7b6-5fbf-4cfb-8151-b1cf592ea15b",
   "metadata": {},
   "outputs": [
    {
     "name": "stdout",
     "output_type": "stream",
     "text": [
      "Under qval < 0.05, number of positive genes for Alzheimer's dementia = 40\n",
      "Under qval < 0.05, number of positive genes for Amyotrophic lateral sclerosis = 1\n",
      "Under qval < 0.05, number of positive genes for Parkinson's disease = 134\n",
      "Under qval < 0.05, number of positive genes for Vascular dementia = 289\n",
      "Under qval < 0.05, number of positive genes for Multiple sclerosis = 18\n",
      "Under qval < 0.05, number of positive genes for Schizophrenia = 323\n",
      "Under qval < 0.05, number of positive genes for Major depression = 7\n",
      "Under qval < 0.05, number of positive genes for Brain/CNS cancer = 0\n"
     ]
    }
   ],
   "source": [
    "# Calculate the number of significant genes for each neurological disease (FDR)\n",
    "from scipy import stats\n",
    "\n",
    "pval_thres = 0.05\n",
    "\n",
    "for disease in neuro_diseases:\n",
    "    supp_cox_hr_sup = supp_cox_hr[supp_cox_hr[\"Outcome\"] == disease].copy()\n",
    "    supp_cox_hr_sup.loc[:, \"FDR\"] = stats.false_discovery_control(supp_cox_hr_sup[\"P.Value\"].tolist())\n",
    "    num_pos = supp_cox_hr_sup[supp_cox_hr_sup[\"FDR\"] < pval_thres].shape[0]\n",
    "    print(f\"Under qval < {pval_thres}, number of positive genes for {disease} = {num_pos}\")"
   ]
  },
  {
   "cell_type": "code",
   "execution_count": 20,
   "id": "30670cbf-4065-4ce4-b224-9aa610845e03",
   "metadata": {},
   "outputs": [
    {
     "name": "stdout",
     "output_type": "stream",
     "text": [
      "Under CI not containing 1, number of positive genes for Alzheimer's dementia = 188\n",
      "Under CI not containing 1, number of positive genes for Amyotrophic lateral sclerosis = 46\n",
      "Under CI not containing 1, number of positive genes for Parkinson's disease = 276\n",
      "Under CI not containing 1, number of positive genes for Vascular dementia = 509\n",
      "Under CI not containing 1, number of positive genes for Multiple sclerosis = 169\n",
      "Under CI not containing 1, number of positive genes for Schizophrenia = 516\n",
      "Under CI not containing 1, number of positive genes for Major depression = 169\n",
      "Under CI not containing 1, number of positive genes for Brain/CNS cancer = 30\n"
     ]
    }
   ],
   "source": [
    "# Calculate the number of significant genes for each neurological disease (CI not containing 1)\n",
    "for disease in neuro_diseases:\n",
    "    supp_cox_hr_sup = supp_cox_hr[supp_cox_hr[\"Outcome\"] == disease].copy()\n",
    "    num_pos = supp_cox_hr_sup[(supp_cox_hr_sup[\"LCI\"] > 1.0) | (supp_cox_hr_sup[\"UCI\"] < 1.0)].shape[0]\n",
    "    print(f\"Under CI not containing 1, number of positive genes for {disease} = {num_pos}\")"
   ]
  },
  {
   "cell_type": "markdown",
   "id": "5cf8fefa-635d-4488-a2d7-a8faf2057deb",
   "metadata": {
    "jp-MarkdownHeadingCollapsed": true
   },
   "source": [
    "## Choose the most negative genes to pair with the most positive"
   ]
  },
  {
   "cell_type": "code",
   "execution_count": 52,
   "id": "81fe1fa0-6ac6-4bbd-b927-dbbcd80d53cc",
   "metadata": {},
   "outputs": [
    {
     "data": {
      "text/html": [
       "<div>\n",
       "<style scoped>\n",
       "    .dataframe tbody tr th:only-of-type {\n",
       "        vertical-align: middle;\n",
       "    }\n",
       "\n",
       "    .dataframe tbody tr th {\n",
       "        vertical-align: top;\n",
       "    }\n",
       "\n",
       "    .dataframe thead th {\n",
       "        text-align: right;\n",
       "    }\n",
       "</style>\n",
       "<table border=\"1\" class=\"dataframe\">\n",
       "  <thead>\n",
       "    <tr style=\"text-align: right;\">\n",
       "      <th></th>\n",
       "      <th>Predictor</th>\n",
       "      <th>Outcome</th>\n",
       "      <th>HR</th>\n",
       "      <th>LCI</th>\n",
       "      <th>UCI</th>\n",
       "      <th>P.Value</th>\n",
       "      <th>N Cases</th>\n",
       "      <th>N Controls</th>\n",
       "      <th>gene</th>\n",
       "      <th>-logp</th>\n",
       "    </tr>\n",
       "  </thead>\n",
       "  <tbody>\n",
       "    <tr>\n",
       "      <th>4820</th>\n",
       "      <td>KLK13.Q9UKR3.OID21291.v1</td>\n",
       "      <td>Schizophrenia</td>\n",
       "      <td>2.05</td>\n",
       "      <td>1.56</td>\n",
       "      <td>2.69</td>\n",
       "      <td>2.870000e-07</td>\n",
       "      <td>54</td>\n",
       "      <td>47449</td>\n",
       "      <td>KLK13.OID21291</td>\n",
       "      <td>15.063784</td>\n",
       "    </tr>\n",
       "    <tr>\n",
       "      <th>4835</th>\n",
       "      <td>CXCL16.Q9H2A7.OID20282.v1</td>\n",
       "      <td>Schizophrenia</td>\n",
       "      <td>2.02</td>\n",
       "      <td>1.54</td>\n",
       "      <td>2.65</td>\n",
       "      <td>3.280000e-07</td>\n",
       "      <td>54</td>\n",
       "      <td>47449</td>\n",
       "      <td>CXCL16.OID20282</td>\n",
       "      <td>14.930252</td>\n",
       "    </tr>\n",
       "    <tr>\n",
       "      <th>5291</th>\n",
       "      <td>TNFRSF10A.O00220.OID20967.v1</td>\n",
       "      <td>Schizophrenia</td>\n",
       "      <td>1.93</td>\n",
       "      <td>1.46</td>\n",
       "      <td>2.54</td>\n",
       "      <td>3.320000e-06</td>\n",
       "      <td>54</td>\n",
       "      <td>47449</td>\n",
       "      <td>TNFRSF10A.OID20967</td>\n",
       "      <td>12.615546</td>\n",
       "    </tr>\n",
       "    <tr>\n",
       "      <th>5510</th>\n",
       "      <td>OGN.P20774.OID21123.v1</td>\n",
       "      <td>Schizophrenia</td>\n",
       "      <td>1.90</td>\n",
       "      <td>1.43</td>\n",
       "      <td>2.51</td>\n",
       "      <td>8.170000e-06</td>\n",
       "      <td>54</td>\n",
       "      <td>47449</td>\n",
       "      <td>OGN.OID21123</td>\n",
       "      <td>11.715042</td>\n",
       "    </tr>\n",
       "    <tr>\n",
       "      <th>5560</th>\n",
       "      <td>ITGAV.P06756.OID21416.v1</td>\n",
       "      <td>Schizophrenia</td>\n",
       "      <td>0.53</td>\n",
       "      <td>0.40</td>\n",
       "      <td>0.70</td>\n",
       "      <td>9.590000e-06</td>\n",
       "      <td>54</td>\n",
       "      <td>47449</td>\n",
       "      <td>ITGAV.OID21416</td>\n",
       "      <td>11.554790</td>\n",
       "    </tr>\n",
       "  </tbody>\n",
       "</table>\n",
       "</div>"
      ],
      "text/plain": [
       "                         Predictor        Outcome    HR   LCI   UCI  \\\n",
       "4820      KLK13.Q9UKR3.OID21291.v1  Schizophrenia  2.05  1.56  2.69   \n",
       "4835     CXCL16.Q9H2A7.OID20282.v1  Schizophrenia  2.02  1.54  2.65   \n",
       "5291  TNFRSF10A.O00220.OID20967.v1  Schizophrenia  1.93  1.46  2.54   \n",
       "5510        OGN.P20774.OID21123.v1  Schizophrenia  1.90  1.43  2.51   \n",
       "5560      ITGAV.P06756.OID21416.v1  Schizophrenia  0.53  0.40  0.70   \n",
       "\n",
       "           P.Value  N Cases  N Controls                gene      -logp  \n",
       "4820  2.870000e-07       54       47449      KLK13.OID21291  15.063784  \n",
       "4835  3.280000e-07       54       47449     CXCL16.OID20282  14.930252  \n",
       "5291  3.320000e-06       54       47449  TNFRSF10A.OID20967  12.615546  \n",
       "5510  8.170000e-06       54       47449        OGN.OID21123  11.715042  \n",
       "5560  9.590000e-06       54       47449      ITGAV.OID21416  11.554790  "
      ]
     },
     "execution_count": 52,
     "metadata": {},
     "output_type": "execute_result"
    }
   ],
   "source": [
    "supp_cox_hr = pd.read_csv(\"/sc/arion/projects/DiseaseGeneCell/Huang_lab_project/BioResNetwork/Phuc/projects/Alzheimer/nature_proteomics_papers/blood_protein_assessment_of_leading_incident_diseases_and_mortality_in_the_UK_Biobank/supp_table_4.tsv\", sep=\"\\t\")\n",
    "disease = \"Schizophrenia\"\n",
    "\n",
    "supp_cox_hr['P.Value'] = supp_cox_hr['P.Value'].str.replace(',', '.').astype(float)\n",
    "supp_cox_hr['HR'] = supp_cox_hr['HR'].str.replace(',', '.').astype(float)\n",
    "supp_cox_hr['UCI'] = supp_cox_hr['UCI'].str.replace(',', '.').astype(float)\n",
    "supp_cox_hr['LCI'] = supp_cox_hr['LCI'].str.replace(',', '.').astype(float)\n",
    "\n",
    "supp_cox_hr[\"gene\"] = supp_cox_hr[\"Predictor\"].apply(lambda x: x.split(\".\")[0] + \".\" + x.split(\".\")[-2])\n",
    "supp_cox_hr[\"-logp\"] = -np.log(supp_cox_hr[\"P.Value\"] + 1e-60)\n",
    "supp_cox_hr = supp_cox_hr[supp_cox_hr[\"Outcome\"] == disease].drop_duplicates(subset=[\"gene\"])\n",
    "supp_cox_hr.head()"
   ]
  },
  {
   "cell_type": "code",
   "execution_count": 53,
   "id": "444be83e-623f-482c-a273-d4d3a4349c86",
   "metadata": {},
   "outputs": [],
   "source": [
    "# Positive genes: Only CI not containing 1.0\n",
    "mode = \"ci\"\n",
    "supp_cox_hr_pos = supp_cox_hr[(supp_cox_hr[\"LCI\"] > 1.0) | (supp_cox_hr[\"UCI\"] < 1.0)]\n",
    "supp_cox_hr_pos_genes = supp_cox_hr_pos[\"gene\"].tolist()\n",
    "\n",
    "# Most negative genes based on largest p-value\n",
    "supp_cox_hr_neg = supp_cox_hr.sort_values(by=\"P.Value\", ascending=False).head(supp_cox_hr_pos.shape[0])\n",
    "supp_cox_hr_neg_genes = supp_cox_hr_neg[\"gene\"].tolist()\n",
    "\n",
    "supp_cox_hr_genes = supp_cox_hr_pos_genes\n",
    "supp_cox_hr_genes.extend(supp_cox_hr_neg_genes)"
   ]
  },
  {
   "cell_type": "code",
   "execution_count": 4,
   "id": "91f488ff-ac66-488c-af83-b8738bcc78c5",
   "metadata": {},
   "outputs": [],
   "source": [
    "# Positive genes: FDR\n",
    "from scipy import stats\n",
    "\n",
    "mode = \"fdr\"\n",
    "\n",
    "brain_piehl_genes = pd.read_csv(\"/sc/arion/projects/DiseaseGeneCell/Huang_lab_project/BioResNetwork/Phuc/projects/Alzheimer/piehl_2022_gazestani_2023_integrative/results/data/cell_type_specificity/seurat_funcs/markers_wilcox_nomax_brain_general_cell_types.tsv\", sep=\"\\t\")[\"gene\"].unique().tolist()\n",
    "pval_thres = 0.05\n",
    "supp_cox_hr[\"FDR\"] = stats.false_discovery_control(supp_cox_hr[\"P.Value\"])\n",
    "\n",
    "# Get only genes in single-cell\n",
    "supp_cox_hr[\"gene_name\"] = supp_cox_hr[\"gene\"].apply(lambda x: x.split(\".\")[0])\n",
    "supp_cox_hr_sub = supp_cox_hr[supp_cox_hr[\"gene_name\"].isin(brain_piehl_genes)]\n",
    "supp_cox_hr_pos = supp_cox_hr_sub[supp_cox_hr_sub[\"FDR\"] < pval_thres]\n",
    "supp_cox_hr_pos_genes = supp_cox_hr_pos[\"gene\"].tolist()\n",
    "\n",
    "# Most negative genes based on largest p-value\n",
    "supp_cox_hr_neg = supp_cox_hr_sub.sort_values(by=\"P.Value\", ascending=False).head(supp_cox_hr_pos.shape[0])\n",
    "supp_cox_hr_neg_genes = supp_cox_hr_neg[\"gene\"].tolist()\n",
    "\n",
    "supp_cox_hr_genes = supp_cox_hr_pos_genes\n",
    "supp_cox_hr_genes.extend(supp_cox_hr_neg_genes)"
   ]
  },
  {
   "cell_type": "markdown",
   "id": "7c10dabf-67ed-49d7-873a-25473aec2558",
   "metadata": {},
   "source": [
    "## Compare these positive and negative genes with genes from Human Protein Atlas"
   ]
  },
  {
   "cell_type": "code",
   "execution_count": 54,
   "id": "384c7584-a373-4229-bedc-46304d01f15a",
   "metadata": {},
   "outputs": [],
   "source": [
    "protein_atlas_path = \"/sc/arion/projects/DiseaseGeneCell/Huang_lab_project/BioResNetwork/Phuc/projects/Alzheimer/human_protein_atlas\"\n",
    "gene_types = pd.read_csv(f\"{protein_atlas_path}/gene_types.tsv\", sep=\"\\t\")"
   ]
  },
  {
   "cell_type": "code",
   "execution_count": 55,
   "id": "d965ff0f-fc7c-4ef1-a76e-10fea6e5e83a",
   "metadata": {},
   "outputs": [
    {
     "name": "stdout",
     "output_type": "stream",
     "text": [
      "Number of genes not in atlas: 5\n",
      "Negative gene list = ['MICB_MICA', 'WARS', 'IL12A_IL12B', 'EBI3_IL27', 'FUT3_FUT5']\n"
     ]
    }
   ],
   "source": [
    "# Negative genes composition\n",
    "neg_genes = [i.split(\".\")[0] for i in supp_cox_hr_neg_genes]\n",
    "genes_not_in_atlas = list(set(neg_genes) - set(gene_types[\"Gene\"].tolist()))\n",
    "print(f\"Number of genes not in atlas: {len(genes_not_in_atlas)}\")\n",
    "print(f\"Negative gene list = {genes_not_in_atlas}\")\n",
    "\n",
    "neg_gene_types = gene_types[gene_types[\"Gene\"].isin(neg_genes)]\n",
    "pos_genes = [i.split(\".\")[0] for i in list(set(supp_cox_hr_genes) - set(supp_cox_hr_neg_genes))]\n",
    "pos_gene_types = gene_types[gene_types[\"Gene\"].isin(pos_genes)]"
   ]
  },
  {
   "cell_type": "code",
   "execution_count": 56,
   "id": "0ad11a3c-19d5-4df0-bd88-7fcb094813f6",
   "metadata": {},
   "outputs": [
    {
     "data": {
      "text/plain": [
       "type\n",
       "others_enriched_detected                309\n",
       "lowly_specific                          129\n",
       "brain_enhanced                           47\n",
       "brain_enriched                           15\n",
       "brain_others_group_enriched              10\n",
       "brain_lymphoid_marrow_group_enriched      1\n",
       "Name: count, dtype: int64"
      ]
     },
     "execution_count": 56,
     "metadata": {},
     "output_type": "execute_result"
    }
   ],
   "source": [
    "# Negative gene composition\n",
    "neg_gene_types[\"type\"].value_counts()"
   ]
  },
  {
   "cell_type": "code",
   "execution_count": 57,
   "id": "5b73851b-89ae-44b9-a284-34f5af124846",
   "metadata": {},
   "outputs": [
    {
     "data": {
      "text/plain": [
       "type\n",
       "others_enriched_detected                235\n",
       "lowly_specific                          233\n",
       "brain_enhanced                           24\n",
       "brain_enriched                            7\n",
       "brain_others_group_enriched               7\n",
       "brain_lymphoid_marrow_group_enriched      2\n",
       "Name: count, dtype: int64"
      ]
     },
     "execution_count": 57,
     "metadata": {},
     "output_type": "execute_result"
    }
   ],
   "source": [
    "# Positive gene composition\n",
    "pos_gene_types[\"type\"].value_counts()"
   ]
  },
  {
   "cell_type": "markdown",
   "id": "fe4dc27d-5f31-4ad4-b5bf-0d92b95bce27",
   "metadata": {},
   "source": [
    "# Train ElasticNet on only 7 brain cell types"
   ]
  },
  {
   "cell_type": "markdown",
   "id": "e6ed1ff1-b4a8-478e-9902-289c74b0da27",
   "metadata": {},
   "source": [
    "## Input data"
   ]
  },
  {
   "cell_type": "code",
   "execution_count": 5,
   "id": "01b99245-d4f5-438b-be5d-95ac0aa30f20",
   "metadata": {},
   "outputs": [
    {
     "name": "stdout",
     "output_type": "stream",
     "text": [
      "Number of negatives: 32\n",
      "All genes: 64\n"
     ]
    }
   ],
   "source": [
    "print(f\"Number of negatives: {len(supp_cox_hr_neg_genes)}\")\n",
    "print(f\"All genes: {len(supp_cox_hr_genes)}\")"
   ]
  },
  {
   "cell_type": "markdown",
   "id": "784dd384-4313-44f6-84bf-716f4d049166",
   "metadata": {},
   "source": [
    "### Using seismic's cell type specificity score"
   ]
  },
  {
   "cell_type": "markdown",
   "id": "af35046a-2d0d-4e94-b194-ec6bf685fec4",
   "metadata": {},
   "source": [
    "### Seurat's FindAllMarkers cell type specificity"
   ]
  },
  {
   "cell_type": "code",
   "execution_count": 6,
   "id": "22e889b1-1f99-4dcd-ba65-4f43ed30b0a3",
   "metadata": {},
   "outputs": [
    {
     "name": "stdout",
     "output_type": "stream",
     "text": [
      "(64, 7)\n",
      "Number positive: 32\n",
      "Number negative: 32\n"
     ]
    }
   ],
   "source": [
    "### Preprocess \n",
    "brain_piehl_sscore = pd.read_csv(\"/sc/arion/projects/DiseaseGeneCell/Huang_lab_project/BioResNetwork/Phuc/projects/Alzheimer/piehl_2022_gazestani_2023_integrative/results/data/cell_type_specificity/seurat_funcs/markers_wilcox_nomax_brain_general_cell_types.tsv\", sep=\"\\t\")\n",
    "brain_piehl_sscore = brain_piehl_sscore[[\"avg_log2FC\", \"cluster\", \"gene\"]]\n",
    "brain_piehl_sscore = pd.pivot_table(brain_piehl_sscore, columns=[\"cluster\"], index=[\"gene\"], values=\"avg_log2FC\").fillna(0.0)\n",
    "\n",
    "sig_genes = [0 if g in list(supp_cox_hr_neg_genes) else 1 for g in supp_cox_hr_genes]\n",
    "sig_genes_df = pd.DataFrame(sig_genes, index=list(supp_cox_hr_genes), columns=[\"predictive\"]).reset_index()\n",
    "sig_genes_df[\"gene\"] = sig_genes_df[\"index\"].apply(lambda x: x.split(\".\")[0])\n",
    "sig_genes_df = sig_genes_df.drop(columns=\"index\").drop_duplicates(subset=\"gene\", keep=\"first\").set_index(\"gene\")\n",
    "\n",
    "sscore_sig = pd.merge(brain_piehl_sscore, sig_genes_df, left_index=True, right_index=True)\n",
    "X = sscore_sig.drop(columns=[\"predictive\"])\n",
    "y = sscore_sig[\"predictive\"].to_frame()\n",
    "cell_type_names = sscore_sig.columns.tolist()[:-1]\n",
    "print(X.shape)\n",
    "print(f\"Number positive: {y.sum().item()}\")\n",
    "print(f\"Number negative: {X.shape[0] - y.sum().item()}\")"
   ]
  },
  {
   "cell_type": "markdown",
   "id": "6697a9a9-c849-4d82-b8ed-0ba69d0b5220",
   "metadata": {
    "jp-MarkdownHeadingCollapsed": true
   },
   "source": [
    "## Train Logistic Regression with GridSearchCV"
   ]
  },
  {
   "cell_type": "code",
   "execution_count": 80,
   "id": "bcf2dded-c6c3-47a9-aadb-f5c1279769de",
   "metadata": {},
   "outputs": [],
   "source": [
    "from sklearn.utils.class_weight import compute_sample_weight\n",
    "from sklearn.model_selection import train_test_split\n",
    "from sklearn.preprocessing import StandardScaler\n",
    "\n",
    "X_train, X_test, y_train, y_test = train_test_split(\n",
    "    X, y, test_size=0.2, random_state=42, stratify=y\n",
    ")\n",
    "scaler_X = StandardScaler()\n",
    "X_train_np = scaler_X.fit_transform(X_train)\n",
    "X_test_np = scaler_X.transform(X_test)"
   ]
  },
  {
   "cell_type": "code",
   "execution_count": 63,
   "id": "c4a9b4ad-93d1-4f09-852f-6c4a9f9553e4",
   "metadata": {},
   "outputs": [
    {
     "name": "stdout",
     "output_type": "stream",
     "text": [
      "5\n"
     ]
    }
   ],
   "source": [
    "neg_pos_ratio = int((y_train.shape[0] - y_train.sum().item()) / (y_train.sum().item()))\n",
    "print(neg_pos_ratio)"
   ]
  },
  {
   "cell_type": "code",
   "execution_count": 68,
   "id": "ee7c2967-0865-4e2d-8d5b-ae9987d78927",
   "metadata": {},
   "outputs": [],
   "source": [
    "# Calculate the weights\n",
    "pos_weights = 1\n",
    "y_train_weights = np.ones_like(y_train)\n",
    "y_train_weights[y_train == 1] = pos_weights\n",
    "y_train_weights[y_train == 0] = 1\n",
    "y_train_weights = np.squeeze(y_train_weights)"
   ]
  },
  {
   "cell_type": "code",
   "execution_count": 90,
   "id": "3457702f-6537-49e8-8827-abc18400c209",
   "metadata": {},
   "outputs": [
    {
     "name": "stdout",
     "output_type": "stream",
     "text": [
      "Best parameters found: {'C': 0.01, 'class_weight': {0: 1.0, 1: 3}, 'l1_ratio': 0.1}\n",
      "Best model's PR AUC on test set: 0.0281\n"
     ]
    }
   ],
   "source": [
    "from sklearn.model_selection import GridSearchCV\n",
    "from sklearn.linear_model import LogisticRegression\n",
    "from sklearn.metrics import make_scorer, precision_recall_curve, auc, confusion_matrix, classification_report\n",
    "from sklearn.metrics import precision_recall_fscore_support\n",
    "from sklearn.metrics import average_precision_score\n",
    "from sklearn.datasets import make_classification\n",
    "from sklearn.model_selection import train_test_split\n",
    "\n",
    "y_train_np = np.squeeze(y_train.to_numpy())\n",
    "y_test_np = np.squeeze(y_test.to_numpy())\n",
    "\n",
    "model = LogisticRegression(penalty='elasticnet', class_weight={0: 1, 1: pos_weights}, solver=\"saga\", max_iter=1000, l1_ratio=0.1, C=1.0)\n",
    "\n",
    "param_grid = {\n",
    "    'C': [0.01, 0.1, 1, 10], \n",
    "    \"l1_ratio\": [0.1, 0.3, 0.5, 0.7, 0.8, 0.9],\n",
    "    \"class_weight\": [{0: 1.0, 1: 3}, {0: 1.0, 1: 4}, {0: 1.0, 1: 10}]\n",
    "}\n",
    "grid_search = GridSearchCV(model, param_grid, scoring='average_precision', cv=5)\n",
    "\n",
    "#grid_search.fit(X_train_np, y_train_np, **{\"sample_weight\": y_train_weights})\n",
    "grid_search.fit(X_train_np, y_train_np)\n",
    "\n",
    "y_score = grid_search.predict_proba(X_test_np)[:, 1]\n",
    "precision, recall, thresholds = precision_recall_curve(y_test_np, y_score)\n",
    "auc_precision_recall = auc(recall, precision)\n",
    "\n",
    "print(f\"Best parameters found: {grid_search.best_params_}\")\n",
    "print(f\"Best model's PR AUC on test set: {auc_precision_recall:.4f}\")"
   ]
  },
  {
   "cell_type": "code",
   "execution_count": 88,
   "id": "834914b1-27f8-462a-a014-5041a9c19d4c",
   "metadata": {},
   "outputs": [
    {
     "name": "stdout",
     "output_type": "stream",
     "text": [
      "0.028136964175198058\n",
      "[[207   0]\n",
      " [  6   0]]\n",
      "              precision    recall  f1-score   support\n",
      "\n",
      "           0       0.97      1.00      0.99       207\n",
      "           1       0.00      0.00      0.00         6\n",
      "\n",
      "    accuracy                           0.97       213\n",
      "   macro avg       0.49      0.50      0.49       213\n",
      "weighted avg       0.94      0.97      0.96       213\n",
      "\n"
     ]
    },
    {
     "name": "stderr",
     "output_type": "stream",
     "text": [
      "/sc/arion/projects/DiseaseGeneCell/Huang_lab_project/BioResNetwork/Phuc/conda_env/test-env/envs/scanpy-env/lib/python3.11/site-packages/sklearn/metrics/_classification.py:1471: UndefinedMetricWarning: Precision and F-score are ill-defined and being set to 0.0 in labels with no predicted samples. Use `zero_division` parameter to control this behavior.\n",
      "  _warn_prf(average, modifier, msg_start, len(result))\n",
      "/sc/arion/projects/DiseaseGeneCell/Huang_lab_project/BioResNetwork/Phuc/conda_env/test-env/envs/scanpy-env/lib/python3.11/site-packages/sklearn/metrics/_classification.py:1471: UndefinedMetricWarning: Precision and F-score are ill-defined and being set to 0.0 in labels with no predicted samples. Use `zero_division` parameter to control this behavior.\n",
      "  _warn_prf(average, modifier, msg_start, len(result))\n",
      "/sc/arion/projects/DiseaseGeneCell/Huang_lab_project/BioResNetwork/Phuc/conda_env/test-env/envs/scanpy-env/lib/python3.11/site-packages/sklearn/metrics/_classification.py:1471: UndefinedMetricWarning: Precision and F-score are ill-defined and being set to 0.0 in labels with no predicted samples. Use `zero_division` parameter to control this behavior.\n",
      "  _warn_prf(average, modifier, msg_start, len(result))\n"
     ]
    }
   ],
   "source": [
    "## Grab best model\n",
    "model = grid_search.best_estimator_\n",
    "\n",
    "y_pred = model.predict(X_test_np)\n",
    "y_score = model.predict_proba(X_test_np)[:, 1]\n",
    "precision, recall, thresholds = precision_recall_curve(y_test_np, y_score)\n",
    "auc_precision_recall = auc(recall, precision)\n",
    "\n",
    "print(auc_precision_recall)\n",
    "print(confusion_matrix(y_test_np, y_pred))\n",
    "print(classification_report(y_test_np, y_pred))"
   ]
  },
  {
   "cell_type": "markdown",
   "id": "3311be78-6293-49f5-adfa-5b9c3bd99da7",
   "metadata": {},
   "source": [
    "## Performance distribution across hyperparams and data folds, ElasticNet"
   ]
  },
  {
   "cell_type": "code",
   "execution_count": 20,
   "id": "88cbab89-6ca2-4ed9-9918-e4e09640a130",
   "metadata": {
    "scrolled": true
   },
   "outputs": [
    {
     "name": "stdout",
     "output_type": "stream",
     "text": [
      "Working on fold 0\n",
      "Working on fold 1\n",
      "Working on fold 2\n",
      "Working on fold 3\n",
      "Working on fold 4\n"
     ]
    }
   ],
   "source": [
    "# Calculate the weights\n",
    "pos_weights = [1.0]\n",
    "Cs = [0.01, 0.1, 1, 10]\n",
    "l1_ratios = [0.1, 0.3, 0.5, 0.7, 0.8, 0.9]\n",
    "auprc_df = []\n",
    "coeff_df = []\n",
    "N = 5\n",
    "\n",
    "#\n",
    "import warnings\n",
    "from sklearn.preprocessing import StandardScaler\n",
    "from sklearn.model_selection import StratifiedKFold\n",
    "from sklearn.model_selection import GridSearchCV\n",
    "from sklearn.linear_model import LogisticRegression\n",
    "from sklearn.metrics import make_scorer, precision_recall_curve, auc, confusion_matrix, classification_report, roc_auc_score\n",
    "from sklearn.metrics import precision_recall_fscore_support\n",
    "from sklearn.metrics import average_precision_score\n",
    "from sklearn.datasets import make_classification\n",
    "from sklearn.model_selection import train_test_split\n",
    "from sklearn.exceptions import ConvergenceWarning\n",
    "\n",
    "kfold = StratifiedKFold(n_splits=N, shuffle=True, random_state=42)\n",
    "for i, (train_ind, test_ind) in enumerate(kfold.split(X, y)):\n",
    "\n",
    "    print(f\"Working on fold {i}\")\n",
    "    X_train, y_train = X.iloc[train_ind, :], y.iloc[train_ind, :]\n",
    "    X_test, y_test = X.iloc[test_ind, :], y.iloc[test_ind, :]\n",
    "    scaler_X = StandardScaler()\n",
    "    X_train_np = scaler_X.fit_transform(X_train)\n",
    "    X_test_np = scaler_X.transform(X_test)\n",
    "    \n",
    "    for p in pos_weights:\n",
    "        for C in Cs:\n",
    "            for l1_ratio in l1_ratios:\n",
    "    \n",
    "                y_train_weights = np.ones_like(y_train)\n",
    "                y_train_weights[y_train == 1] = p\n",
    "                y_train_weights[y_train == 0] = 1\n",
    "                y_train_weights = np.squeeze(y_train_weights)\n",
    "                \n",
    "                y_train_np = np.squeeze(y_train.to_numpy())\n",
    "                y_test_np = np.squeeze(y_test.to_numpy())\n",
    "\n",
    "                model = LogisticRegression(penalty='elasticnet', class_weight={0: 1, 1: p}, solver=\"saga\", max_iter=10000, l1_ratio=l1_ratio, C=C)        \n",
    "                try:\n",
    "                    with warnings.catch_warnings():\n",
    "                        warnings.filterwarnings(\"error\", category=ConvergenceWarning)\n",
    "                        model.fit(X_train_np, y_train_np, sample_weight=y_train_weights)\n",
    "                except ConvergenceWarning:\n",
    "                    print(f\"Model at fold={i}, pos_weights={p}, C={C}, and l1_ratio={l1_ratio}\")\n",
    "                    del model\n",
    "                    continue\n",
    "        \n",
    "                y_pred = model.predict(X_test_np)\n",
    "                y_score = model.predict_proba(X_test_np)[:, 1]\n",
    "                metric = roc_auc_score(y_test_np, y_score)\n",
    "                #precision, recall, thresholds = precision_recall_curve(y_test_np, y_score)\n",
    "                #metric = auc(recall, precision)\n",
    "                conf_mat = confusion_matrix(y_test_np, y_pred)\n",
    "                auprc_df.append([i, p, C, l1_ratio, metric, conf_mat[0, 0], conf_mat[0, 1], conf_mat[1, 0], conf_mat[1, 1]])\n",
    "    \n",
    "                l = [i, p, C, l1_ratio]\n",
    "                l.extend(np.squeeze(model.coef_).tolist())\n",
    "                coeff_df.append(l)\n",
    "        \n",
    "                del model\n",
    "\n",
    "auprc_df = pd.DataFrame(auprc_df, columns=[\"fold\", \"pos_weights\", \"C\", \"l1_ratio\", \"AUROC\", \"TN\", \"FN\", \"FP\", \"TP\"])\n",
    "coeff_cols = [\"fold\", \"pos_weights\", \"C\", \"l1_ratio\"]\n",
    "coeff_cols.extend(cell_type_names)\n",
    "coeff_df = pd.DataFrame(coeff_df, columns=coeff_cols)"
   ]
  },
  {
   "cell_type": "code",
   "execution_count": 21,
   "id": "da7cee3b-61fe-4c2a-8c44-2b3e2b6fed62",
   "metadata": {},
   "outputs": [
    {
     "name": "stdout",
     "output_type": "stream",
     "text": [
      "Before removing bad samples = 120\n",
      "After removing bad samples = 75\n"
     ]
    },
    {
     "name": "stderr",
     "output_type": "stream",
     "text": [
      "/tmp/ipykernel_219343/2927181941.py:3: SettingWithCopyWarning: \n",
      "A value is trying to be set on a copy of a slice from a DataFrame.\n",
      "Try using .loc[row_indexer,col_indexer] = value instead\n",
      "\n",
      "See the caveats in the documentation: https://pandas.pydata.org/pandas-docs/stable/user_guide/indexing.html#returning-a-view-versus-a-copy\n",
      "  auprc_df_good[\"id\"] = auprc_df_good[\"fold\"].astype(str) + \"-\" + auprc_df_good[\"pos_weights\"].astype(str) + \"-\" + auprc_df_good[\"C\"].astype(str) + \"-\" + auprc_df_good[\"l1_ratio\"].astype(str)\n"
     ]
    }
   ],
   "source": [
    "# Since AUPRC calculations for FN=0 and TP=0 and vice versa is not reliable, discard those\n",
    "auprc_df_good = auprc_df[(~((auprc_df[\"FN\"] == 0) & (auprc_df[\"TP\"] == 0))) & (~((auprc_df[\"TN\"] == 0) & (auprc_df[\"FP\"] == 0)))]\n",
    "auprc_df_good[\"id\"] = auprc_df_good[\"fold\"].astype(str) + \"-\" + auprc_df_good[\"pos_weights\"].astype(str) + \"-\" + auprc_df_good[\"C\"].astype(str) + \"-\" + auprc_df_good[\"l1_ratio\"].astype(str)\n",
    "\n",
    "coeff_df[\"id\"] = coeff_df[\"fold\"].astype(str) + \"-\" + coeff_df[\"pos_weights\"].astype(str) + \"-\" + coeff_df[\"C\"].astype(str) + \"-\" + coeff_df[\"l1_ratio\"].astype(str)\n",
    "coeff_df_good = coeff_df[(coeff_df[\"id\"].isin(auprc_df_good[\"id\"].tolist()))]\n",
    "\n",
    "print(f\"Before removing bad samples = {auprc_df.shape[0]}\")\n",
    "print(f\"After removing bad samples = {auprc_df_good.shape[0]}\")"
   ]
  },
  {
   "cell_type": "code",
   "execution_count": 40,
   "id": "7322079f-4033-49b8-b9fe-97c2658e2283",
   "metadata": {},
   "outputs": [],
   "source": [
    "# lci<1_uci>1_most_neg, fdr_0.05_most_neg\n",
    "disease = \"Parkinson's_disease\"\n",
    "base_path = f\"/sc/arion/projects/DiseaseGeneCell/Huang_lab_project/BioResNetwork/Phuc/projects/Alzheimer/piehl_2022_gazestani_2023_integrative/results/data/seismic_uk_biobank_ppp_bin_new/{disease}\"\n",
    "unique_name = \"lci<1_uci>1_most_neg\"\n",
    "\n",
    "auprc_df_good = pd.read_csv(f\"{base_path}/auroc_{unique_name}.tsv\", sep=\"\\t\")\n",
    "coeff_df_good = pd.read_csv(f\"{base_path}/coeff_{unique_name}.tsv\", sep=\"\\t\")"
   ]
  },
  {
   "cell_type": "code",
   "execution_count": 41,
   "id": "2316d205-4892-4cd3-a525-9d0b5f391c7f",
   "metadata": {},
   "outputs": [
    {
     "data": {
      "image/png": "[encoded data removed]",
      "text/plain": [
       "<Figure size 500x500 with 1 Axes>"
      ]
     },
     "metadata": {},
     "output_type": "display_data"
    }
   ],
   "source": [
    "plt.figure(figsize=(5, 5))\n",
    "sns.boxplot(auprc_df_good, x=\"fold\", y=\"AUROC\", hue=\"pos_weights\")\n",
    "plt.ylim([0.5, 1.0])\n",
    "plt.title(\"AUROC\")\n",
    "plt.show()"
   ]
  },
  {
   "cell_type": "code",
   "execution_count": 42,
   "id": "2694af53-049e-45f5-b837-4fd32f73a215",
   "metadata": {},
   "outputs": [
    {
     "data": {
      "image/png": "[encoded data removed]",
      "text/plain": [
       "<Figure size 1500x500 with 1 Axes>"
      ]
     },
     "metadata": {},
     "output_type": "display_data"
    },
    {
     "data": {
      "image/png": "[encoded data removed]",
      "text/plain": [
       "<Figure size 1500x500 with 1 Axes>"
      ]
     },
     "metadata": {},
     "output_type": "display_data"
    }
   ],
   "source": [
    "coeff_dfd = coeff_df_good.drop(columns=[\"C\", \"l1_ratio\", \"pos_weights\", \"id\"])\n",
    "coeff_dfm = pd.melt(coeff_dfd, id_vars=[\"fold\"]).rename(columns={\"variable\": \"cell_group\", \"value\": \"coeff\"})\n",
    "plt.figure(figsize=(15, 5))\n",
    "sns.boxplot(coeff_dfm, x=\"cell_group\", y=\"coeff\", hue=\"fold\")\n",
    "plt.plot([0]*7, color=\"red\", linestyle=\"dashed\")\n",
    "plt.xticks(rotation=90)\n",
    "plt.ylim([-1.5, 1.5])\n",
    "plt.title(\"Coefficients split by fold\")\n",
    "plt.show()\n",
    "\n",
    "\n",
    "coeff_dfd = coeff_df_good.drop(columns=[\"C\", \"l1_ratio\", \"fold\", \"id\"])\n",
    "coeff_dfm = pd.melt(coeff_dfd, id_vars=[\"pos_weights\"]).rename(columns={\"variable\": \"cell_group\", \"value\": \"coeff\"})\n",
    "plt.figure(figsize=(15, 5))\n",
    "sns.boxplot(coeff_dfm, x=\"cell_group\", y=\"coeff\", hue=\"pos_weights\")\n",
    "plt.plot([0]*7, color=\"red\", linestyle=\"dashed\")\n",
    "plt.xticks(rotation=90)\n",
    "plt.ylim([-1.5, 1.5])\n",
    "plt.title(\"Coefficients split by pos weights\")\n",
    "plt.show()"
   ]
  },
  {
   "cell_type": "code",
   "execution_count": 64,
   "id": "820a63d1-f956-4eba-88da-69754072877f",
   "metadata": {},
   "outputs": [],
   "source": [
    "base_path = f\"/sc/arion/projects/DiseaseGeneCell/Huang_lab_project/BioResNetwork/Phuc/projects/Alzheimer/piehl_2022_gazestani_2023_integrative/results/data/seismic_uk_biobank_ppp_bin_new/{disease.replace(' ', '_')}\"\n",
    "os.makedirs(base_path, exist_ok=True)\n",
    "\n",
    "if mode == \"ci\":\n",
    "    unique_name = \"lci<1_uci>1_most_neg\"\n",
    "elif mode == \"fdr\":\n",
    "    unique_name = \"fdr_0.05_most_neg\"\n",
    "\n",
    "auprc_df_good.to_csv(f\"{base_path}/auroc_{unique_name}.tsv\", sep=\"\\t\", index=False)\n",
    "coeff_df_good.to_csv(f\"{base_path}/coeff_{unique_name}.tsv\", sep=\"\\t\", index=False)"
   ]
  },
  {
   "cell_type": "code",
   "execution_count": 48,
   "id": "809a7c75-ac2c-45e6-868c-ea331f37b242",
   "metadata": {},
   "outputs": [
    {
     "data": {
      "text/plain": [
       "'fdr'"
      ]
     },
     "execution_count": 48,
     "metadata": {},
     "output_type": "execute_result"
    }
   ],
   "source": [
    "mode"
   ]
  }
 ],
 "metadata": {
  "kernelspec": {
   "display_name": "Python 3 (ipykernel)",
   "language": "python",
   "name": "python3"
  },
  "language_info": {
   "codemirror_mode": {
    "name": "ipython",
    "version": 3
   },
   "file_extension": ".py",
   "mimetype": "text/x-python",
   "name": "python",
   "nbconvert_exporter": "python",
   "pygments_lexer": "ipython3",
   "version": "3.11.7"
  }
 },
 "nbformat": 4,
 "nbformat_minor": 5
}
